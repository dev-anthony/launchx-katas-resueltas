{
 "cells": [
  {
   "cell_type": "markdown",
   "metadata": {},
   "source": [
    "## Ejercicio - Escribir declaraciones if, else, y elif\n",
    "\n",
    "# <h3>Para este ejercicio, escribirás una lógica condicional que imprima una advertencia si un asteroide se acerca a la Tierra demasiado rápido. La velocidad del asteroide varía dependiendo de lo cerca que esté del sol, y cualquier velocidad superior a 25 kilómetros por segundo (km/s) merece una advertencia.</h3>"
   ]
  },
  {
   "cell_type": "code",
   "execution_count": 1,
   "metadata": {},
   "outputs": [
    {
     "name": "stdout",
     "output_type": "stream",
     "text": [
      "ADVERTENCIA!! La velocidad del asteroide es muy alta, SU VELOCIDAD es: 26 km/s\n"
     ]
    }
   ],
   "source": [
    "while True:\n",
    "  try:\n",
    "      asteroide = int(input(\"Enter a number: \"))\n",
    "      break\n",
    "  except ValueError:\n",
    "        print(\"Solo se aceptan numeros enteros. Intente de nuevo...\")\n",
    "\n",
    "if asteroide <= 0:\n",
    "    print(\"La velocidad del asteroide no puede ser negativa ni cero\");\n",
    "elif asteroide > 25:\n",
    "    print(\"ADVERTENCIA!! La velocidad del asteroide es muy alta, SU VELOCIDAD es:\", asteroide, \"km/s\");\n",
    "else:\n",
    "    print(\"La velocidad del asteroide es correcta, SU VELOCIDAD es:\", asteroide, \"km/s\");\n"
   ]
  },
  {
   "cell_type": "markdown",
   "metadata": {},
   "source": [
    "# <h3>Si un asteroide entra en la atmósfera de la Tierra a una velocidad mayor o igual a 20 km/s, a veces produce un rayo de luz que se puede ver desde la Tierra. Escribe la lógica condicional que usa declaraciones if, else, y elif para alertar a las personas de todo el mundo que deben buscar un asteroide en el cielo. ¡Hay uno que se dirige a la tierra ahora a una velocidad de 19 km/s!</h3>\n",
    "\n",
    "# <h5>Agrega el código para crear una variable para un asteroide que viaja a 19 km/s</h5>\n",
    "# <h5>Escribe varias expresiones de prueba para determinar si puedes ver el rayo de luz desde la tierra</h5>\n",
    "# <h5>Agrega las instrucciones que se ejecutarán si las expresiones de prueba son True o False</h5>"
   ]
  },
  {
   "cell_type": "code",
   "execution_count": 18,
   "metadata": {},
   "outputs": [
    {
     "name": "stdout",
     "output_type": "stream",
     "text": [
      "La velocidad del asteroide no puede ser negativa ni cero\n"
     ]
    }
   ],
   "source": [
    "while True:\n",
    "  try:\n",
    "      asteroide = int(input(\"Ingrese la velocidad del asteroide: \"))\n",
    "      break\n",
    "  except ValueError:\n",
    "        print(\"Solo se aceptan numeros enteros. Intente de nuevo...\")\n",
    "\n",
    "\n",
    "if asteroide <= 0:\n",
    "    print(\"La velocidad del asteroide no puede ser negativa ni cero\");\n",
    "elif asteroide >= 20:\n",
    "    print(\"RAYO DE LUZ!! los habitantes de la tierra pueden observar un rayo de luz\");\n",
    "elif asteroide == 19:\n",
    "  print(\"ADVERTENCIA!!, Otro asteroide se dirige a la tierra, SU VELOCIDAD es:\", asteroide, \"km/s\");\n",
    "elif asteroide > 0 & asteroide < 19:\n",
    "  print(\"ESTAMOS A SALVO!!, caerá en el oceano y no genrará estragos, SU VELOCIDAD es:\", asteroide, \"km/s\");\n",
    "else:\n",
    "  print(\"No hay amenaza de asteroides que se dirijan a la tierra\");\n"
   ]
  },
  {
   "cell_type": "markdown",
   "metadata": {},
   "source": [
    "# Ejercicio: Uso de operadores and y or\n",
    "\n",
    "# <h5>Agrega el código para crear nuevas variables para la velocidad y el tamaño del asteroide</h5>\n",
    "# <h5>Para probar el código, prueba con varias velocidades y tamaños</h5>\n",
    "# <h5>Escribe varias expresiones de prueba o combinaciones de expresiones de prueba para determinar qué mensaje se debe enviar a Tierra.</h5>\n",
    "\n",
    "# <h6>sistema de advertencia. Aquí está la nueva información que necesitas saber:</h5>\n",
    "\n",
    "# <h6>*Los asteroides de menos de 25 metros en su dimensión más grande probablemente se quemarán a medida que entren en la atmósfera de la Tierra.</h6>\n",
    "\n",
    "# <h6>Si una pieza de un asteroide que es más grande que 25 metros pero más pequeña que 1000 metros golpeara la Tierra, causaría mucho daño.</h6>\n",
    "# <h6>También discutimos en el ejercicio anterior que:</h6>\n",
    "\n",
    "# <h6>La velocidad del asteroide varía en función de lo cerca que esté del sol, y cualquier velocidad superior a 25 kilómetros por segundo (km/s) merece una advertencia.\n",
    "# <h6>Si un asteroide entra en la atmósfera de la Tierra a una velocidad mayor o igual a 20 km/s, a veces produce un rayo de luz que se puede ver desde la Tierra.</h6>"
   ]
  },
  {
   "cell_type": "code",
   "execution_count": 1,
   "metadata": {},
   "outputs": [
    {
     "name": "stdout",
     "output_type": "stream",
     "text": [
      "Solo se aceptan numeros enteros. Intente de nuevo...\n",
      "Solo se aceptan numeros enteros. Intente de nuevo...\n"
     ]
    }
   ],
   "source": [
    "while True:\n",
    "  try:\n",
    "      velocidad = int(input(\"Ingrese la velocidad del asteroide: \"));\n",
    "      tamanho = int(input(\"Ingrese el tamaño del asteroide: \"));\n",
    "      break\n",
    "\n",
    "  except ValueError:\n",
    "      print(\"Solo se aceptan numeros enteros. Intente de nuevo...\")\n",
    "\n",
    "if tamanho > 25 & tamanho < 1000:\n",
    "  print(\"ADVERTENCIA!!, el asteroide cusará muchos daños a la tierra, SU VELOCIDAD es:\", velocidad, \"km/s\" \"Y TAMAÑO ES:\", tamanho, \"metros\");\n",
    "elif tamanho < 25:\n",
    "  print(\"ESTAMOS A SALVO!!, el asteroide se quemara al entrar a la atmosfera de la tierra , SU VELOCIDAD es:\", velocidad, \"km/s\" \"Y TAMAÑO ES:\", tamanho, \"metros\");\n",
    "elif velocidad > 25:\n",
    "  print(\"ADVERTENCIA!!, el asteroide se acerca a una VELOCIDAD DE:\", velocidad, \"km/s\" \"Y UN TAMAÑO DE:\", tamanho, \"metros\");\n",
    "elif velocidad <= 25:\n",
    "  print(\"NO HAY AMENAZAS!!, el asteroide se mueve a una VELOCIDAD DE:\", velocidad, \"km/s\" \"Y UN TAMAÑO DE:\", tamanho, \"metros\");\n"
   ]
  }
 ],
 "metadata": {
  "interpreter": {
   "hash": "042368a394bc362014495b619a67c02dc7aa6c71414113abbc492ab4f903ee24"
  },
  "kernelspec": {
   "display_name": "Python 3.10.2 64-bit",
   "language": "python",
   "name": "python3"
  },
  "language_info": {
   "codemirror_mode": {
    "name": "ipython",
    "version": 3
   },
   "file_extension": ".py",
   "mimetype": "text/x-python",
   "name": "python",
   "nbconvert_exporter": "python",
   "pygments_lexer": "ipython3",
   "version": "3.10.2"
  },
  "orig_nbformat": 4
 },
 "nbformat": 4,
 "nbformat_minor": 2
}
