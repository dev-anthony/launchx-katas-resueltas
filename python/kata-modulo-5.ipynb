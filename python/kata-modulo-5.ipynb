{
 "cells": [
  {
   "cell_type": "markdown",
   "metadata": {},
   "source": [
    "# Ejercicio1 - Utilizar operadores aritméticos\n",
    "\n",
    "# <h5>Exploremos cómo podemos crear un programa que pueda calcular la distancia entre dos planetas. Comenzaremos usando dos distancias de planetas: Tierra (149.597.870 km) y Júpiter (778.547.200 km).</h5>"
   ]
  },
  {
   "cell_type": "code",
   "execution_count": 17,
   "metadata": {},
   "outputs": [
    {
     "name": "stdout",
     "output_type": "stream",
     "text": [
      "La distancia entre los planetas es de: 628949330.0 km\n",
      "La distancia en millas es de: 390577533.93 millas\n"
     ]
    }
   ],
   "source": [
    "tierra = float(149597870)\n",
    "jupiter = float(778547200)\n",
    "\n",
    "# Calcular la distancia entre planetas\n",
    "def calcular_distancia(jupiter, tierra):\n",
    "    return jupiter - tierra;\n",
    "\n",
    "print('La distancia entre los planetas es de:', calcular_distancia(jupiter, tierra), 'km');\n",
    "print('La distancia en millas es de:', calcular_distancia(jupiter, tierra) * 0.621, 'millas');\n"
   ]
  },
  {
   "cell_type": "markdown",
   "metadata": {},
   "source": [
    "# Ejercicio 2: convierte cadenas en números y usa valores absolutos\n",
    "\n",
    "# <h5>Crear una aplicación para trabajar con números y entrada de usuario\n",
    "</h5>"
   ]
  },
  {
   "cell_type": "code",
   "execution_count": 28,
   "metadata": {},
   "outputs": [
    {
     "name": "stdout",
     "output_type": "stream",
     "text": [
      "-50300000\n",
      "La distancia entre millas es de: 31236300.0\n"
     ]
    }
   ],
   "source": [
    "planeta_1 = input('Introduzca la distancia del sol para el primer planeta en KM');\n",
    "planeta_2 = input('Introduzca la distancia desde el sol para el segundo planeta en KM');\n",
    "\n",
    "planeta_1 = int(planeta_1);\n",
    "planeta_2 = int(planeta_2);\n",
    "\n",
    "distancia_km = planeta_2 - planeta_1\n",
    "print('La distancia entre los planetas es de:',distancia_km);\n",
    "\n",
    "# Convertir de KM a Millas\n",
    "distancia_millas = distancia_km * 0.621;\n",
    "print('La distancia entre millas es de:',abs(distancia_millas));"
   ]
  }
 ],
 "metadata": {
  "interpreter": {
   "hash": "042368a394bc362014495b619a67c02dc7aa6c71414113abbc492ab4f903ee24"
  },
  "kernelspec": {
   "display_name": "Python 3.10.2 64-bit",
   "language": "python",
   "name": "python3"
  },
  "language_info": {
   "codemirror_mode": {
    "name": "ipython",
    "version": 3
   },
   "file_extension": ".py",
   "mimetype": "text/x-python",
   "name": "python",
   "nbconvert_exporter": "python",
   "pygments_lexer": "ipython3",
   "version": "3.10.2"
  },
  "orig_nbformat": 4
 },
 "nbformat": 4,
 "nbformat_minor": 2
}
