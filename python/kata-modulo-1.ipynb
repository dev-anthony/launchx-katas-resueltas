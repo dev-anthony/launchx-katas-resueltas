{
 "cells": [
  {
   "cell_type": "markdown",
   "metadata": {},
   "source": [
    "## Mostrar fecha actual"
   ]
  },
  {
   "cell_type": "code",
   "execution_count": 4,
   "metadata": {},
   "outputs": [
    {
     "name": "stdout",
     "output_type": "stream",
     "text": [
      "Today's date is:  2022-02-06\n"
     ]
    }
   ],
   "source": [
    "# Código original\n",
    "# from datetime import date\n",
    "\n",
    "# print(\"Today's date is: \")\n",
    "\n",
    "from datetime import date\n",
    "\n",
    "print(\"Today's date is: \", date.today())"
   ]
  },
  {
   "cell_type": "markdown",
   "metadata": {},
   "source": [
    "## Conversor de unidades"
   ]
  },
  {
   "cell_type": "code",
   "execution_count": 17,
   "metadata": {},
   "outputs": [
    {
     "name": "stdout",
     "output_type": "stream",
     "text": [
      "Los parsecs introducidos son:  11.0 parsecs\n",
      "Los lightyears son:  35.877159999999996 lightyears\n"
     ]
    }
   ],
   "source": [
    "# Código original\n",
    "# parsec = 11\n",
    "\n",
    "# lightyears = 0\n",
    "\n",
    "# print(str(parsec) + \" parsec, is \" + str(lightyears) + \" lightyears\")\n",
    "\n",
    "lightyears = 0\n",
    "\n",
    "parsecs = float(input(\"Introduce los parsecs: \"))\n",
    "\n",
    "lightyears = parsecs * 3.26156\n",
    "\n",
    "print(\"Los parsecs introducidos son: \", parsecs, \"parsecs\")\n",
    "print(\"Los lightyears son: \", lightyears, \"lightyears\")\n",
    "\n",
    "\n"
   ]
  }
 ],
 "metadata": {
  "interpreter": {
   "hash": "042368a394bc362014495b619a67c02dc7aa6c71414113abbc492ab4f903ee24"
  },
  "kernelspec": {
   "display_name": "Python 3.10.2 64-bit",
   "language": "python",
   "name": "python3"
  },
  "language_info": {
   "codemirror_mode": {
    "name": "ipython",
    "version": 3
   },
   "file_extension": ".py",
   "mimetype": "text/x-python",
   "name": "python",
   "nbconvert_exporter": "python",
   "pygments_lexer": "ipython3",
   "version": "3.10.2"
  },
  "orig_nbformat": 4
 },
 "nbformat": 4,
 "nbformat_minor": 2
}
